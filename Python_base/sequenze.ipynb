{
 "cells": [
  {
   "cell_type": "code",
   "execution_count": 1,
   "metadata": {},
   "outputs": [],
   "source": [
    "### Gestione di una sequenza\n",
    "\n",
    "\"\"\" Task: \n",
    "1. Immissione\n",
    "2. Ordinamento\n",
    "3. Ricerca completa\n",
    "4. Ricerca binaria\n",
    "5. Visualizzazione\n",
    "6. Uscita dal programma \"\"\"\n",
    "\n",
    "vet = []\n"
   ]
  },
  {
   "cell_type": "code",
   "execution_count": 2,
   "metadata": {},
   "outputs": [],
   "source": [
    "def GestioneSequenza():\n",
    "    ''' Menù utente di gestione '''\n",
    "    scelta = -1; n = 0\n",
    "    while scelta != 0:\n",
    "        print(\"------ \")\n",
    "        print(\"\\n\\n\\n\\t\\t\\t GESTIONE SEQUENZA\")\n",
    "        print(\"\\n\\t\\t\\t 1. IMMISSIONE\")\n",
    "        print(\"\\t\\t\\t 2. ORDINAMENTO\")\n",
    "        print(\"\\t\\t\\t 3. Ricerca completa\")\n",
    "        print(\"\\t\\t\\t Ricerca binaria\")\n",
    "        print(\"\\t\\t\\t 5. Visualizzazione\")\n",
    "        print(\"\\t\\t\\t 0. Fine\\n\")\n",
    "        print(\"->\", end = ' ')\n",
    "        scelta = int(input(\"\\t\\t\\t Scegliere una opzione: \"))\n",
    "        \n",
    "        if scelta == 1: n = immissione()\n",
    "        elif scelta == 2: ordinamento(n)\n",
    "        elif scelta == 3: #ricerca completa\n",
    "            ele = int(input(\"Elemento da cercare: \"))\n",
    "            posizione = ricerca(n, ele)\n",
    "            if ele == vet[posizione]:\n",
    "                print('Elemento ', ele, 'presente in posizione : ', posizione + 1)\n",
    "            else: print('Elemento non presente!')\n",
    "        elif scelta == 4:\n",
    "            ele = int(input(\"Elemento da ricercare: \"))\n",
    "            posizione = ricBin(n, ele)\n",
    "            if posizione != -1:\n",
    "                print(\" Elemento \", ele, \"presente in pozione: \", posizione + 1)\n",
    "            else:\n",
    "                print('Elemento non presente!')\n",
    "        elif scelta == 5: visualizzazione(n)\n",
    "        else: break"
   ]
  },
  {
   "cell_type": "code",
   "execution_count": 3,
   "metadata": {},
   "outputs": [],
   "source": [
    "def immissione():\n",
    "    '''Richiesta di valori sequenza'''\n",
    "    n = -1\n",
    "    while n<1:\n",
    "        n = int(input(\"Numero di elementi: \"))\n",
    "    for i in range(n):\n",
    "        print(\"\\nElemento n.\", i+1, end = ' ')\n",
    "        vet.append(int(input('Immettere intero: ')))\n",
    "    return n"
   ]
  },
  {
   "cell_type": "code",
   "execution_count": 4,
   "metadata": {},
   "outputs": [],
   "source": [
    "def ordinamento(n):\n",
    "    '''Ordina la sequenza'''\n",
    "    k = 1\n",
    "    while (k==1):\n",
    "        k = 0\n",
    "        for i in range(n-1):\n",
    "            if vet[i] > vet[i+1]:\n",
    "                vet[i], vet[i+1] = vet[i+1], vet[i]\n",
    "                k=1; p = i+1\n",
    "    n = p\n",
    "    "
   ]
  },
  {
   "cell_type": "code",
   "execution_count": 5,
   "metadata": {},
   "outputs": [],
   "source": [
    "def ricerca(n, ele):\n",
    "    '''Ricerca sequenziale'''\n",
    "    i = 0\n",
    "    while (ele != vet[i]) and (i<n-1): i += 1\n",
    "    return i\n"
   ]
  },
  {
   "cell_type": "code",
   "execution_count": 6,
   "metadata": {},
   "outputs": [],
   "source": [
    "def ricBin(n, ele):\n",
    "    '''Ricerca binaria'''\n",
    "    print('Funziona solo se la sequenza è ordinata!')\n",
    "    alto = 0; basso = n-1; pos = -1\n",
    "    while alto <= basso and pos == -1:\n",
    "        i = int((alto + basso) / 2)\n",
    "        if vet[i] == ele: pos = i\n",
    "        elif vet[i] < ele: alto = i + 1\n",
    "        else: basso = i -1\n",
    "    return pos"
   ]
  },
  {
   "cell_type": "code",
   "execution_count": 7,
   "metadata": {},
   "outputs": [],
   "source": [
    "def visualizzazione(n):\n",
    "    '''Visualizza la sequenza'''\n",
    "    for i in range(n):\n",
    "        print(vet[i])"
   ]
  },
  {
   "cell_type": "code",
   "execution_count": 8,
   "metadata": {},
   "outputs": [
    {
     "name": "stdout",
     "output_type": "stream",
     "text": [
      "------ \n",
      "\n",
      "\n",
      "\n",
      "\t\t\t GESTIONE SEQUENZA\n",
      "\n",
      "\t\t\t 1. IMMISSIONE\n",
      "\t\t\t 2. ORDINAMENTO\n",
      "\t\t\t 3. Ricerca completa\n",
      "\t\t\t Ricerca binaria\n",
      "\t\t\t 5. Visualizzazione\n",
      "\t\t\t 0. Fine\n",
      "\n",
      "-> \n",
      "Elemento n. 1 \n",
      "Elemento n. 2 \n",
      "Elemento n. 3 \n",
      "Elemento n. 4 \n",
      "Elemento n. 5 ------ \n",
      "\n",
      "\n",
      "\n",
      "\t\t\t GESTIONE SEQUENZA\n",
      "\n",
      "\t\t\t 1. IMMISSIONE\n",
      "\t\t\t 2. ORDINAMENTO\n",
      "\t\t\t 3. Ricerca completa\n",
      "\t\t\t Ricerca binaria\n",
      "\t\t\t 5. Visualizzazione\n",
      "\t\t\t 0. Fine\n",
      "\n",
      "-> Funziona solo se la sequenza è ordinata!\n",
      "Elemento non presente!\n",
      "------ \n",
      "\n",
      "\n",
      "\n",
      "\t\t\t GESTIONE SEQUENZA\n",
      "\n",
      "\t\t\t 1. IMMISSIONE\n",
      "\t\t\t 2. ORDINAMENTO\n",
      "\t\t\t 3. Ricerca completa\n",
      "\t\t\t Ricerca binaria\n",
      "\t\t\t 5. Visualizzazione\n",
      "\t\t\t 0. Fine\n",
      "\n",
      "-> Elemento non presente!\n",
      "------ \n",
      "\n",
      "\n",
      "\n",
      "\t\t\t GESTIONE SEQUENZA\n",
      "\n",
      "\t\t\t 1. IMMISSIONE\n",
      "\t\t\t 2. ORDINAMENTO\n",
      "\t\t\t 3. Ricerca completa\n",
      "\t\t\t Ricerca binaria\n",
      "\t\t\t 5. Visualizzazione\n",
      "\t\t\t 0. Fine\n",
      "\n",
      "-> "
     ]
    }
   ],
   "source": [
    "GestioneSequenza() #Programma Principale"
   ]
  }
 ],
 "metadata": {
  "kernelspec": {
   "display_name": "Python 3",
   "language": "python",
   "name": "python3"
  },
  "language_info": {
   "codemirror_mode": {
    "name": "ipython",
    "version": 3
   },
   "file_extension": ".py",
   "mimetype": "text/x-python",
   "name": "python",
   "nbconvert_exporter": "python",
   "pygments_lexer": "ipython3",
   "version": "3.9.15"
  },
  "orig_nbformat": 4
 },
 "nbformat": 4,
 "nbformat_minor": 2
}
